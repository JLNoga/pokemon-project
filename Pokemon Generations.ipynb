{
 "cells": [
  {
   "cell_type": "code",
   "execution_count": 54,
   "id": "6d7cf57d",
   "metadata": {},
   "outputs": [],
   "source": [
    "# Dependencies\n",
    "import json\n",
    "import requests \n",
    "from pprint import pprint\n",
    "import pandas as pd"
   ]
  },
  {
   "cell_type": "code",
   "execution_count": 55,
   "id": "7ea414af",
   "metadata": {},
   "outputs": [
    {
     "data": {
      "text/html": [
       "<div>\n",
       "<style scoped>\n",
       "    .dataframe tbody tr th:only-of-type {\n",
       "        vertical-align: middle;\n",
       "    }\n",
       "\n",
       "    .dataframe tbody tr th {\n",
       "        vertical-align: top;\n",
       "    }\n",
       "\n",
       "    .dataframe thead th {\n",
       "        text-align: right;\n",
       "    }\n",
       "</style>\n",
       "<table border=\"1\" class=\"dataframe\">\n",
       "  <thead>\n",
       "    <tr style=\"text-align: right;\">\n",
       "      <th></th>\n",
       "      <th>Name</th>\n",
       "    </tr>\n",
       "  </thead>\n",
       "  <tbody>\n",
       "    <tr>\n",
       "      <th>0</th>\n",
       "      <td>golem</td>\n",
       "    </tr>\n",
       "    <tr>\n",
       "      <th>1</th>\n",
       "      <td>bulbasaur</td>\n",
       "    </tr>\n",
       "    <tr>\n",
       "      <th>2</th>\n",
       "      <td>charmander</td>\n",
       "    </tr>\n",
       "    <tr>\n",
       "      <th>3</th>\n",
       "      <td>squirtle</td>\n",
       "    </tr>\n",
       "    <tr>\n",
       "      <th>4</th>\n",
       "      <td>caterpie</td>\n",
       "    </tr>\n",
       "    <tr>\n",
       "      <th>...</th>\n",
       "      <td>...</td>\n",
       "    </tr>\n",
       "    <tr>\n",
       "      <th>146</th>\n",
       "      <td>snorlax</td>\n",
       "    </tr>\n",
       "    <tr>\n",
       "      <th>147</th>\n",
       "      <td>dragonair</td>\n",
       "    </tr>\n",
       "    <tr>\n",
       "      <th>148</th>\n",
       "      <td>dragonite</td>\n",
       "    </tr>\n",
       "    <tr>\n",
       "      <th>149</th>\n",
       "      <td>mew</td>\n",
       "    </tr>\n",
       "    <tr>\n",
       "      <th>150</th>\n",
       "      <td>ivysaur</td>\n",
       "    </tr>\n",
       "  </tbody>\n",
       "</table>\n",
       "<p>151 rows × 1 columns</p>\n",
       "</div>"
      ],
      "text/plain": [
       "           Name\n",
       "0         golem\n",
       "1     bulbasaur\n",
       "2    charmander\n",
       "3      squirtle\n",
       "4      caterpie\n",
       "..          ...\n",
       "146     snorlax\n",
       "147   dragonair\n",
       "148   dragonite\n",
       "149         mew\n",
       "150     ivysaur\n",
       "\n",
       "[151 rows x 1 columns]"
      ]
     },
     "execution_count": 55,
     "metadata": {},
     "output_type": "execute_result"
    }
   ],
   "source": [
    "gen_url = f\"https://pokeapi.co/api/v2/generation/{1}/\"\n",
    "# Make request and store response\n",
    "response = requests.get(gen_url)\n",
    "# JSON-ify response\n",
    "response_json = response.json()\n",
    "# Count species by generation\n",
    "count_species = len(response_json[\"pokemon_species\"])\n",
    "# Create empty lists\n",
    "species_url_list = []\n",
    "species_name_list = []\n",
    "# Iterate over species and create df\n",
    "for n in range(count_species):\n",
    "    #url = response_json[\"pokemon_species\"][n-1]['url']\n",
    "    name = response_json[\"pokemon_species\"][n-1]['name']\n",
    "    #species_url_list.append(url)\n",
    "    species_name_list.append(name)\n",
    "species_list_df = pd.DataFrame(list(species_name_list),\n",
    "                               columns =['Name'])\n",
    "species_list_df"
   ]
  },
  {
   "cell_type": "code",
   "execution_count": 59,
   "id": "8044a6f8",
   "metadata": {},
   "outputs": [],
   "source": [
    "poke = species_list_df.iloc[0]"
   ]
  },
  {
   "cell_type": "code",
   "execution_count": 60,
   "id": "39efac8d",
   "metadata": {},
   "outputs": [],
   "source": [
    "poke_url = f\"https://pokeapi.co/api/v2/pokemon/{poke}/\""
   ]
  },
  {
   "cell_type": "code",
   "execution_count": 61,
   "id": "2d1e6c4f",
   "metadata": {},
   "outputs": [
    {
     "data": {
      "text/plain": [
       "404"
      ]
     },
     "execution_count": 61,
     "metadata": {},
     "output_type": "execute_result"
    }
   ],
   "source": [
    "# Make request and store response\n",
    "response_species = requests.get(poke_url)\n",
    "response_species.status_code\n",
    "# JSON-ify response\n",
    "#response_species_json = response_species.json()\n",
    "# Call\n",
    "#pprint(response_species_json)\n",
    "                                "
   ]
  }
 ],
 "metadata": {
  "kernelspec": {
   "display_name": "Python (dev)",
   "language": "python",
   "name": "dev"
  },
  "language_info": {
   "codemirror_mode": {
    "name": "ipython",
    "version": 3
   },
   "file_extension": ".py",
   "mimetype": "text/x-python",
   "name": "python",
   "nbconvert_exporter": "python",
   "pygments_lexer": "ipython3",
   "version": "3.10.13"
  }
 },
 "nbformat": 4,
 "nbformat_minor": 5
}
